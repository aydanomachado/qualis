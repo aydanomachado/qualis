{
 "cells": [
  {
   "cell_type": "markdown",
   "metadata": {},
   "source": [
    "# Estudo dos qualis das interseções das áreas do IC/UFAL"
   ]
  },
  {
   "cell_type": "markdown",
   "metadata": {},
   "source": [
    "***Aydano Machado - <aydano.machado@ic.ufal.br>***\n",
    "\n",
    "O presente documento apresenta um comparação entres os periódicos que aparecem no site Qualis Periódicos do quadriênio 2013-2016 coletados no dia 18/02/2019.\n",
    "\n",
    "*Observações:\n",
    " - Foram excluídos em cada análise os periódicos que não apresentam interseção entre as áreas quando analizadas duas a duas.\n",
    " - Os qualis foram tranformados em números de acordo com a seguinte regra/proporção:\n",
    "     - A1 = 1\n",
    "     - A2 = 0.85\n",
    "     - B1 = 0.7\n",
    "     - B2 = 0.55\n",
    "     - B3 = 0.4\n",
    "     - B4 = 0.25\n",
    "     - B5 = 0.1\n",
    "     - C  = 0"
   ]
  },
  {
   "cell_type": "code",
   "execution_count": 1,
   "metadata": {},
   "outputs": [],
   "source": [
    "import qualis as q\n",
    "import numpy as np\n",
    "import matplotlib.pyplot as plt\n",
    "from IPython.core.display import HTML"
   ]
  },
  {
   "cell_type": "markdown",
   "metadata": {},
   "source": [
    "## Cruzando Engenharias IV, Interdisciplinar e Matemática, Probabilidade e Estatística com Ciência da Computação"
   ]
  },
  {
   "cell_type": "code",
   "execution_count": 2,
   "metadata": {},
   "outputs": [
    {
     "data": {
      "text/html": [
       "<div>\n",
       "<style scoped>\n",
       "    .dataframe tbody tr th:only-of-type {\n",
       "        vertical-align: middle;\n",
       "    }\n",
       "\n",
       "    .dataframe tbody tr th {\n",
       "        vertical-align: top;\n",
       "    }\n",
       "\n",
       "    .dataframe thead th {\n",
       "        text-align: right;\n",
       "    }\n",
       "</style>\n",
       "<table border=\"1\" class=\"dataframe\">\n",
       "  <thead>\n",
       "    <tr style=\"text-align: right;\">\n",
       "      <th>Ciência da Computação - X</th>\n",
       "      <th>count</th>\n",
       "      <th>mean</th>\n",
       "      <th>std</th>\n",
       "      <th>min</th>\n",
       "      <th>25%</th>\n",
       "      <th>50%</th>\n",
       "      <th>75%</th>\n",
       "      <th>max</th>\n",
       "    </tr>\n",
       "  </thead>\n",
       "  <tbody>\n",
       "    <tr>\n",
       "      <th>Engenharias IV</th>\n",
       "      <td>934.0</td>\n",
       "      <td>-0.066863</td>\n",
       "      <td>0.232010</td>\n",
       "      <td>-0.9</td>\n",
       "      <td>-0.15</td>\n",
       "      <td>0.0</td>\n",
       "      <td>0.15</td>\n",
       "      <td>0.70</td>\n",
       "    </tr>\n",
       "    <tr>\n",
       "      <th>Mat., Prob. e Est.</th>\n",
       "      <td>430.0</td>\n",
       "      <td>0.018140</td>\n",
       "      <td>0.261801</td>\n",
       "      <td>-0.6</td>\n",
       "      <td>-0.15</td>\n",
       "      <td>0.0</td>\n",
       "      <td>0.15</td>\n",
       "      <td>0.75</td>\n",
       "    </tr>\n",
       "    <tr>\n",
       "      <th>Interdisciplinar</th>\n",
       "      <td>1177.0</td>\n",
       "      <td>-0.285472</td>\n",
       "      <td>0.260733</td>\n",
       "      <td>-0.9</td>\n",
       "      <td>-0.45</td>\n",
       "      <td>-0.3</td>\n",
       "      <td>0.00</td>\n",
       "      <td>0.45</td>\n",
       "    </tr>\n",
       "  </tbody>\n",
       "</table>\n",
       "</div>"
      ],
      "text/plain": [
       "Ciência da Computação - X   count      mean       std  min   25%  50%   75%  \\\n",
       "Engenharias IV              934.0 -0.066863  0.232010 -0.9 -0.15  0.0  0.15   \n",
       "Mat., Prob. e Est.          430.0  0.018140  0.261801 -0.6 -0.15  0.0  0.15   \n",
       "Interdisciplinar           1177.0 -0.285472  0.260733 -0.9 -0.45 -0.3  0.00   \n",
       "\n",
       "Ciência da Computação - X   max  \n",
       "Engenharias IV             0.70  \n",
       "Mat., Prob. e Est.         0.75  \n",
       "Interdisciplinar           0.45  "
      ]
     },
     "metadata": {},
     "output_type": "display_data"
    }
   ],
   "source": [
    "display(q.CC_desc)"
   ]
  },
  {
   "cell_type": "code",
   "execution_count": 3,
   "metadata": {},
   "outputs": [
    {
     "data": {
      "image/png": "[encoded data removed]",
      "text/plain": [
       "<Figure size 1440x480 with 3 Axes>"
      ]
     },
     "metadata": {},
     "output_type": "display_data"
    }
   ],
   "source": [
    "fig=plt.figure(figsize=(18, 6), dpi= 80, facecolor='w', edgecolor='k')\n",
    "\n",
    "plt.subplot(1, 3, 1)\n",
    "plt.title('Engenharias IV')\n",
    "plt.xlabel('periódicos')\n",
    "plt.ylabel('diferença')\n",
    "y_pos = np.arange(len(q.eng4_cc['CC_Eng4']))\n",
    "height = q.eng4_cc['CC_Eng4'].sort_values()\n",
    "bar_color = np.where(height<0, 'red', 'blue')\n",
    "plt.bar(y_pos, height, color=bar_color)\n",
    "\n",
    "plt.subplot(1, 3, 2)\n",
    "plt.title('Mat. Prob. e Est.')\n",
    "plt.xlabel('periódicos')\n",
    "plt.ylabel('diferença')\n",
    "y_pos = np.arange(len(q.mpe_cc['CC_MPE']))\n",
    "height = q.mpe_cc['CC_MPE'].sort_values()\n",
    "bar_color = np.where(height<0, 'red', 'blue')\n",
    "plt.bar(y_pos, height, color=bar_color)\n",
    "\n",
    "plt.subplot(1, 3, 3)\n",
    "plt.title('Interdisciplinar')\n",
    "plt.xlabel('periódicos')\n",
    "plt.ylabel('diferença')\n",
    "y_pos = np.arange(len(q.inter_cc['CC_Inter']))\n",
    "height = q.inter_cc['CC_Inter'].sort_values()\n",
    "bar_color = np.where(height<0, 'red', 'blue')\n",
    "plt.bar(y_pos, height, color=bar_color)\n",
    "\n",
    "plt.show()"
   ]
  },
  {
   "cell_type": "markdown",
   "metadata": {},
   "source": [
    "## Cruzando Engenharias IV, Ciência da Computação e Matemática, Probabilidade e Estatística com o Interdisciplinar"
   ]
  },
  {
   "cell_type": "code",
   "execution_count": 4,
   "metadata": {},
   "outputs": [
    {
     "data": {
      "text/html": [
       "<div>\n",
       "<style scoped>\n",
       "    .dataframe tbody tr th:only-of-type {\n",
       "        vertical-align: middle;\n",
       "    }\n",
       "\n",
       "    .dataframe tbody tr th {\n",
       "        vertical-align: top;\n",
       "    }\n",
       "\n",
       "    .dataframe thead th {\n",
       "        text-align: right;\n",
       "    }\n",
       "</style>\n",
       "<table border=\"1\" class=\"dataframe\">\n",
       "  <thead>\n",
       "    <tr style=\"text-align: right;\">\n",
       "      <th>Interdisciplinar - X</th>\n",
       "      <th>count</th>\n",
       "      <th>mean</th>\n",
       "      <th>std</th>\n",
       "      <th>min</th>\n",
       "      <th>25%</th>\n",
       "      <th>50%</th>\n",
       "      <th>75%</th>\n",
       "      <th>max</th>\n",
       "    </tr>\n",
       "  </thead>\n",
       "  <tbody>\n",
       "    <tr>\n",
       "      <th>Engenharias IV</th>\n",
       "      <td>1779.0</td>\n",
       "      <td>0.166610</td>\n",
       "      <td>0.174832</td>\n",
       "      <td>-0.30</td>\n",
       "      <td>0.15</td>\n",
       "      <td>0.15</td>\n",
       "      <td>0.30</td>\n",
       "      <td>0.85</td>\n",
       "    </tr>\n",
       "    <tr>\n",
       "      <th>Mat., Prob. e Est.</th>\n",
       "      <td>811.0</td>\n",
       "      <td>0.269975</td>\n",
       "      <td>0.201817</td>\n",
       "      <td>-0.30</td>\n",
       "      <td>0.15</td>\n",
       "      <td>0.30</td>\n",
       "      <td>0.45</td>\n",
       "      <td>0.75</td>\n",
       "    </tr>\n",
       "    <tr>\n",
       "      <th>Ciência da Computação</th>\n",
       "      <td>1177.0</td>\n",
       "      <td>0.285472</td>\n",
       "      <td>0.260733</td>\n",
       "      <td>-0.45</td>\n",
       "      <td>0.00</td>\n",
       "      <td>0.30</td>\n",
       "      <td>0.45</td>\n",
       "      <td>0.90</td>\n",
       "    </tr>\n",
       "  </tbody>\n",
       "</table>\n",
       "</div>"
      ],
      "text/plain": [
       "Interdisciplinar - X    count      mean       std   min   25%   50%   75%  \\\n",
       "Engenharias IV         1779.0  0.166610  0.174832 -0.30  0.15  0.15  0.30   \n",
       "Mat., Prob. e Est.      811.0  0.269975  0.201817 -0.30  0.15  0.30  0.45   \n",
       "Ciência da Computação  1177.0  0.285472  0.260733 -0.45  0.00  0.30  0.45   \n",
       "\n",
       "Interdisciplinar - X    max  \n",
       "Engenharias IV         0.85  \n",
       "Mat., Prob. e Est.     0.75  \n",
       "Ciência da Computação  0.90  "
      ]
     },
     "metadata": {},
     "output_type": "display_data"
    }
   ],
   "source": [
    "display(q.Inter_desc)"
   ]
  },
  {
   "cell_type": "code",
   "execution_count": 5,
   "metadata": {},
   "outputs": [
    {
     "data": {
      "image/png": "[encoded data removed]",
      "text/plain": [
       "<Figure size 1440x480 with 3 Axes>"
      ]
     },
     "metadata": {},
     "output_type": "display_data"
    }
   ],
   "source": [
    "fig=plt.figure(figsize=(18, 6), dpi= 80, facecolor='w', edgecolor='k')\n",
    "\n",
    "plt.subplot(1, 3, 1)\n",
    "plt.title('Engenharias IV')\n",
    "plt.xlabel('periódicos')\n",
    "plt.ylabel('diferença')\n",
    "y_pos = np.arange(len(q.eng4_inter['Inter_Eng4']))\n",
    "height = q.eng4_inter['Inter_Eng4'].sort_values()\n",
    "bar_color = np.where(height<0, 'red', 'blue')\n",
    "plt.bar(y_pos, height, color=bar_color)\n",
    "\n",
    "plt.subplot(1, 3, 2)\n",
    "plt.title('Mat. Prob. e Est.')\n",
    "plt.xlabel('periódicos')\n",
    "plt.ylabel('diferença')\n",
    "y_pos = np.arange(len(q.mpe_inter['Inter_MPE']))\n",
    "height = q.mpe_inter['Inter_MPE'].sort_values()\n",
    "bar_color = np.where(height<0, 'red', 'blue')\n",
    "plt.bar(y_pos, height, color=bar_color)\n",
    "\n",
    "plt.subplot(1, 3, 3)\n",
    "plt.title('Ciência da Computação')\n",
    "plt.xlabel('periódicos')\n",
    "plt.ylabel('diferença')\n",
    "y_pos = np.arange(len(q.cc_inter['Inter_CC']))\n",
    "height = q.cc_inter['Inter_CC'].sort_values()\n",
    "bar_color = np.where(height<0, 'red', 'blue')\n",
    "plt.bar(y_pos, height, color=bar_color)\n",
    "\n",
    "plt.show()"
   ]
  },
  {
   "cell_type": "code",
   "execution_count": null,
   "metadata": {},
   "outputs": [],
   "source": []
  }
 ],
 "metadata": {
  "kernelspec": {
   "display_name": "Python 3",
   "language": "python",
   "name": "python3"
  },
  "language_info": {
   "codemirror_mode": {
    "name": "ipython",
    "version": 3
   },
   "file_extension": ".py",
   "mimetype": "text/x-python",
   "name": "python",
   "nbconvert_exporter": "python",
   "pygments_lexer": "ipython3",
   "version": "3.6.8"
  }
 },
 "nbformat": 4,
 "nbformat_minor": 2
}
